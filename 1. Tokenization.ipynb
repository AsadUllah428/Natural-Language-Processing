{
 "cells": [
  {
   "cell_type": "code",
   "execution_count": null,
   "id": "cd477b1f",
   "metadata": {},
   "outputs": [],
   "source": [
    "!pip install tensorflow"
   ]
  },
  {
   "cell_type": "markdown",
   "id": "23e427d5",
   "metadata": {},
   "source": [
    "This Python script demonstrates a fundamental step in Natural Language Processing: word tokenization using TensorFlow's Keras Tokenizer. It takes a list of sentences and processes them to create a vocabulary. The Tokenizer automatically handles common preprocessing steps like converting text to lowercase and removing punctuation.\n",
    "\n",
    "The num_words parameter limits the vocabulary to the most frequent words, which is useful for managing memory and focusing on important terms. After fitting the tokenizer, a word_index dictionary is generated, providing a unique integer ID for each word in the learned vocabulary. This mapping is crucial for converting textual data into numerical representations, a necessary step for most machine learning models."
   ]
  },
  {
   "cell_type": "code",
   "execution_count": 3,
   "id": "54751210",
   "metadata": {},
   "outputs": [
    {
     "name": "stdout",
     "output_type": "stream",
     "text": [
      "{'love': 1, 'my': 2, 'i': 3, 'dog': 4, 'cat': 5, 'you': 6}\n"
     ]
    }
   ],
   "source": [
    "from tensorflow.keras.preprocessing.text import Tokenizer\n",
    "\n",
    "# Define a list of sentences to be processed.\n",
    "sentences = [\n",
    "    'i love my dog',\n",
    "    'I, love my cat',\n",
    "    'You love my dog!'\n",
    "]\n",
    "\n",
    "# Initialize the Tokenizer.\n",
    "# num_words=100 specifies that the tokenizer will only consider the top 100 most frequent words.\n",
    "# Words beyond this frequency will be ignored.\n",
    "tokenizer = Tokenizer(num_words=100)\n",
    "\n",
    "# Fit the tokenizer on the provided sentences.\n",
    "# This step analyzes the text, creates a vocabulary of unique words,\n",
    "# and assigns a unique integer index to each word based on its frequency.\n",
    "# Punctuation is typically removed, and words are converted to lowercase by default.\n",
    "tokenizer.fit_on_texts(sentences)\n",
    "\n",
    "# Retrieve the word_index dictionary.\n",
    "# This dictionary maps each word to its corresponding integer index.\n",
    "word_index = tokenizer.word_index\n",
    "\n",
    "# Print the word_index.\n",
    "# The output will show each unique word from the sentences and its assigned integer ID.\n",
    "print(word_index)"
   ]
  }
 ],
 "metadata": {
  "kernelspec": {
   "display_name": "base",
   "language": "python",
   "name": "python3"
  },
  "language_info": {
   "codemirror_mode": {
    "name": "ipython",
    "version": 3
   },
   "file_extension": ".py",
   "mimetype": "text/x-python",
   "name": "python",
   "nbconvert_exporter": "python",
   "pygments_lexer": "ipython3",
   "version": "3.12.9"
  }
 },
 "nbformat": 4,
 "nbformat_minor": 5
}
